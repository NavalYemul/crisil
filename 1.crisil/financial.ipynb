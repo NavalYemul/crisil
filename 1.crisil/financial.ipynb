{
 "cells": [
  {
   "cell_type": "markdown",
   "metadata": {
    "application/vnd.databricks.v1+cell": {
     "cellMetadata": {
      "byteLimit": 2048000,
      "rowLimit": 10000
     },
     "inputWidgets": {},
     "nuid": "1d804734-ec58-4a65-bda7-58cb25e3abef",
     "showTitle": false,
     "tableResultSettingsMap": {},
     "title": ""
    }
   },
   "source": [
    "### Task:\n",
    "    \n",
    "-     0. upload the financial_dataset.csv to volume\n",
    "-     1. create a spark dataframe from the csv file\n",
    "-     2. Transformation : \n",
    "-         rename col TransactionID to transaction_id\n",
    "-         rename col CustomerID to customer_id\n",
    "-         add new col ingestion_date using current_timestamp\n",
    "-     3. write the dataframe to a delta table"
   ]
  },
  {
   "cell_type": "code",
   "execution_count": 0,
   "metadata": {
    "application/vnd.databricks.v1+cell": {
     "cellMetadata": {
      "byteLimit": 2048000,
      "rowLimit": 10000
     },
     "inputWidgets": {},
     "nuid": "fc35c1a1-cda4-47e2-882e-c196a1c827cc",
     "showTitle": false,
     "tableResultSettingsMap": {},
     "title": ""
    }
   },
   "outputs": [],
   "source": [
    "from pyspark.sql.functions import *"
   ]
  },
  {
   "cell_type": "code",
   "execution_count": 0,
   "metadata": {
    "application/vnd.databricks.v1+cell": {
     "cellMetadata": {
      "byteLimit": 2048000,
      "rowLimit": 10000
     },
     "inputWidgets": {},
     "nuid": "77c4bbe9-a0ff-4a04-9e37-61e5380a9068",
     "showTitle": false,
     "tableResultSettingsMap": {},
     "title": ""
    }
   },
   "outputs": [],
   "source": [
    "input_path=\"/Volumes/dev/test/raw/csv/financial_dataset.csv\""
   ]
  },
  {
   "cell_type": "code",
   "execution_count": 0,
   "metadata": {
    "application/vnd.databricks.v1+cell": {
     "cellMetadata": {
      "byteLimit": 2048000,
      "rowLimit": 10000
     },
     "inputWidgets": {},
     "nuid": "9e7681e6-7ef2-43d0-89bf-0e0707bbadca",
     "showTitle": true,
     "tableResultSettingsMap": {},
     "title": "T"
    }
   },
   "outputs": [],
   "source": [
    "# Reading\n",
    "df=spark.read.csv(input_path,header=True,inferSchema=True)\n",
    "\n",
    "# transforming\n",
    "df_new=(\n",
    "    df\n",
    "        .withColumnRenamed(\"TransactionID\",\"transaction_id\")\n",
    "        .withColumnRenamed(\"CustomerID\",\"customer_id\")\n",
    "        .withColumn(\"ingestion_date\",current_date())\n",
    "        )\n",
    "\n",
    "#writing\n",
    "df_new.write.mode(\"overwrite\").saveAsTable(\"dev.test.financial\")"
   ]
  }
 ],
 "metadata": {
  "application/vnd.databricks.v1+notebook": {
   "computePreferences": null,
   "dashboards": [],
   "environmentMetadata": {
    "base_environment": "",
    "environment_version": "3"
   },
   "inputWidgetPreferences": null,
   "language": "python",
   "notebookMetadata": {
    "mostRecentlyExecutedCommandWithImplicitDF": {
     "commandId": 6822076713884895,
     "dataframes": [
      "_sqldf"
     ]
    },
    "pythonIndentUnit": 4
   },
   "notebookName": "financial",
   "widgets": {}
  },
  "language_info": {
   "name": "python"
  }
 },
 "nbformat": 4,
 "nbformat_minor": 0
}
